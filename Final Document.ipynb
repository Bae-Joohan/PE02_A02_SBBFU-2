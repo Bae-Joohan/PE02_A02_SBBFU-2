{
 "cells": [
  {
   "cell_type": "markdown",
   "id": "0d59fd8d",
   "metadata": {},
   "source": [
    "<h6>PE02_A02<h6>\n",
    "    \n",
    "# SBBFU Project "
   ]
  },
  {
   "cell_type": "markdown",
   "id": "f08ad02a",
   "metadata": {},
   "source": [
    "### 1. About the project \n",
    " \n",
    "    \n",
    "##### \n",
    "    \n",
    "> We aim to develop Python-based data analysis software\n",
    "> The goal is to develop software that can analyze wafer scale data in detail.\n",
    ">\n",
    "> At first,\n",
    ">\n",
    "> The main task is to receive data from the customer and then receive the request.\n",
    "> \n",
    "> Main request \n",
    "> + Lot\n",
    "> + Wafer\n",
    "> + Die row & colum\n",
    "> \n",
    "> We can analyze the selected data by specifying specific elements    \n",
    "> In order to develop such analysis software, \n",
    "> a black box(software) that implments this function is created to solve the customer's request.\n",
    ">\n",
    "> In the software,\n",
    "> We process the raw data and print it out. \n",
    "> We show the processed data as a 2*3 figure and save the file. \n",
    "> \n",
    "> In addition, it creates an Excel csv file that can analyze varous \n",
    "> xml files as a result file and makes a dataframe that can be compared simply.\n",
    ">\n",
    "> Finally, the final report The final goal is to make documentation about the tasks \n",
    "> we did using a jupyter notebook and report it to the customer.\n",
    ">\n",
    "> Please put the data in the 'Data' folder\n",
    "> specify the file path\n",
    "> Run the Run.py "
   ]
  },
  {
   "cell_type": "markdown",
   "id": "840c6afd",
   "metadata": {},
   "source": [
    "### 2. Run file description \n",
    " \n",
    "##### \n",
    " >Create a folder corresponding to the output that can be delivered to customers by copying the data in the **'Data'** folder to **'Result'**\n",
    " >Data is processed by selecting only files with the filename \"LMZ\"\n",
    " >Load the module that processes and fits raw data and the module that makes the data parsed from xml file into a csv file, respectively."
   ]
  },
  {
   "cell_type": "markdown",
   "id": "66e24689",
   "metadata": {},
   "source": [
    "### 3. Project information\n",
    "\n",
    ">* Getting Stared\n",
    ">   + Entered the Terminal, write down 'pip install -r requirements.txt' and download it. \\\n",
    ">``(base) C:\\Download\\PE02_A02_SBBFU-1>pip install -r requirements.txt``\n",
    ">\n",
    ">\n",
    ">* How to Run\n",
    ">   + Please enter the file_location and parameter of save_figure, show_figure, save_csv. \\\n",
    "``file_path = '.\\dat\\P184640\\**\\*LMZ?.xml'``\\\n",
    "The customer can choose the option (save figure, show figure, save csv).\n",
    " \n",
    " ![image](https://user-images.githubusercontent.com/84078034/121302349-87472080-c934-11eb-8532-9d4e715bd922.png)\n",
    "***\n",
    "\n"
   ]
  },
  {
   "cell_type": "markdown",
   "id": "9cefbe36",
   "metadata": {},
   "source": [
    "### 4. Description of the module file feature\n",
    "\n",
    " <h3> 1) Fitting module <h3>\n",
    " \n",
    " >* The graph is drawn by parsing the raw data of Wavelengthsweep, IL, Current, and Voltage in the xml file.\n",
    "    \n",
    " >* The fitting of parsing a raw data and displays the data value y-axis corresponding to x-axis by the customer and the desired R-squared, etc. and stored in the graph to visualize the image.\n",
    " ![image](https://user-images.githubusercontent.com/84078034/121302547-d2613380-c934-11eb-8ef4-6b330f316406.png)\n",
    "\n",
    "\n",
    " <h3> 2) CSV module <h3>\n",
    " \n",
    "  >* The following photo is a csv file that analyzes the data provided by the customer.\n",
    "     \n",
    "  >* It contains a variety of data information, including Lot, Wafer, and Operator etc.\n",
    "     \n",
    "  >* Create a dataframe so that the meausured information in the xml file can be viewed at a glance.\n",
    "     \n",
    "  >* Save this data frome in csv format in the 'Result' folder.\n",
    "     \n",
    "  >* If 'r-squared' is less than 0.95, an ‘Errorflag’ appears in the csv file.\n",
    " \n",
    " \n",
    " ![캡처](https://user-images.githubusercontent.com/80964488/117802539-903ec680-b290-11eb-969f-6fd459a8d594.PNG)\n",
    "  \n"
   ]
  },
  {
   "cell_type": "code",
   "execution_count": null,
   "id": "17629c3b",
   "metadata": {},
   "outputs": [],
   "source": [
    "\n"
   ]
  },
  {
   "cell_type": "markdown",
   "id": "9c6b5483",
   "metadata": {},
   "source": [
    "### 5. Conclusion\n",
    "\n",
    " >* After passing the law data provided by the customer, they use the ‘fitting module’ to fit.\n",
    " \n",
    " >* Save this fitting figure in the ‘result’ folder.\n",
    "   \n",
    " >- Save the csv file to the 'result' folder based on the data provided by the customer.\n",
    "\n"
   ]
  },
  {
   "cell_type": "code",
   "execution_count": null,
   "id": "7989af70",
   "metadata": {},
   "outputs": [],
   "source": []
  }
 ],
 "metadata": {
  "kernelspec": {
   "display_name": "Python 3",
   "language": "python",
   "name": "python3"
  },
  "language_info": {
   "codemirror_mode": {
    "name": "ipython",
    "version": 3
   },
   "file_extension": ".py",
   "mimetype": "text/x-python",
   "name": "python",
   "nbconvert_exporter": "python",
   "pygments_lexer": "ipython3",
   "version": "3.9.2"
  }
 },
 "nbformat": 4,
 "nbformat_minor": 5
}
